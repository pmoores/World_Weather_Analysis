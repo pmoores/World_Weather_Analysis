{
 "cells": [
  {
   "cell_type": "code",
   "execution_count": 19,
   "id": "79e7aa16",
   "metadata": {},
   "outputs": [],
   "source": [
    "# Import the random module\n",
    "import random"
   ]
  },
  {
   "cell_type": "code",
   "execution_count": 20,
   "id": "1fcbc459",
   "metadata": {},
   "outputs": [
    {
     "data": {
      "text/plain": [
       "76"
      ]
     },
     "execution_count": 20,
     "metadata": {},
     "output_type": "execute_result"
    }
   ],
   "source": [
    "# randint() fuction\n",
    "random.randint(-90, 90)"
   ]
  },
  {
   "cell_type": "code",
   "execution_count": 21,
   "id": "8ce4edd5",
   "metadata": {},
   "outputs": [
    {
     "data": {
      "text/plain": [
       "0.4078657938605478"
      ]
     },
     "execution_count": 21,
     "metadata": {},
     "output_type": "execute_result"
    }
   ],
   "source": [
    "# random() function\n",
    "random.random()"
   ]
  },
  {
   "cell_type": "code",
   "execution_count": 22,
   "id": "fa71e9b4",
   "metadata": {},
   "outputs": [
    {
     "data": {
      "text/plain": [
       "-71.18993564721762"
      ]
     },
     "execution_count": 22,
     "metadata": {},
     "output_type": "execute_result"
    }
   ],
   "source": [
    "# Combine randint() and random() to generate a floating-point decimal between -90 and 90\n",
    "random_number = random.randint(-90, 90) + random.random()\n",
    "random_number"
   ]
  },
  {
   "cell_type": "code",
   "execution_count": 23,
   "id": "0ad1a5c5",
   "metadata": {},
   "outputs": [
    {
     "data": {
      "text/plain": [
       "[10.667812575394596,\n",
       " 57.361972662124124,\n",
       " -69.63923343572304,\n",
       " -75.97370514435693,\n",
       " 88.43033407538228,\n",
       " -48.34973720148302,\n",
       " -46.92561031206611,\n",
       " 44.51376530691716,\n",
       " 4.206337917845828,\n",
       " 49.27519513171837]"
      ]
     },
     "execution_count": 23,
     "metadata": {},
     "output_type": "execute_result"
    }
   ],
   "source": [
    "# Write an algorithm that will generate latitudes between -90 and 89\n",
    "x = 1\n",
    "latitudes = []\n",
    "while x < 11:\n",
    "    random_lat = random.randint(-90, 89) + random.random()\n",
    "    latitudes.append(random_lat)\n",
    "    x += 1\n",
    "    \n",
    "latitudes"
   ]
  },
  {
   "cell_type": "code",
   "execution_count": 24,
   "id": "a3f64a4c",
   "metadata": {},
   "outputs": [
    {
     "data": {
      "text/plain": [
       "-83"
      ]
     },
     "execution_count": 24,
     "metadata": {},
     "output_type": "execute_result"
    }
   ],
   "source": [
    "# randrange() function\n",
    "random.randrange(-90, 90, step=1)"
   ]
  },
  {
   "cell_type": "code",
   "execution_count": 25,
   "id": "9647b5d4",
   "metadata": {},
   "outputs": [],
   "source": [
    "# Import the NumPy module\n",
    "import numpy as np"
   ]
  },
  {
   "cell_type": "code",
   "execution_count": 26,
   "id": "641cd483",
   "metadata": {},
   "outputs": [
    {
     "data": {
      "text/plain": [
       "45.820518883398876"
      ]
     },
     "execution_count": 26,
     "metadata": {},
     "output_type": "execute_result"
    }
   ],
   "source": [
    "# Chain the NumPy module to the random module to generate a floating-point decimal\n",
    "np.random.uniform(-90.000, 90.000)"
   ]
  },
  {
   "cell_type": "code",
   "execution_count": 27,
   "id": "ac53bf09",
   "metadata": {},
   "outputs": [
    {
     "data": {
      "text/plain": [
       "array([  7.45578201, -33.47768042, -30.89881947, -11.70252728,\n",
       "        22.20976407, -67.75406101, -64.51796635,  75.7321508 ,\n",
       "       -78.55302403, -67.38163076,  81.62401914,  26.38982775,\n",
       "        65.4443893 , -77.62352914,  23.68572249,  35.54146133,\n",
       "        -7.2283378 ,  -0.2754434 ,  45.52278016,  47.80864726,\n",
       "        52.41166502, -79.76201066, -69.5758241 , -25.03656204,\n",
       "       -79.51951798,  47.96493784, -29.6570107 , -39.10378866,\n",
       "       -84.85564631, -69.63961292, -83.65054538,  31.59073143,\n",
       "       -48.56317914, -80.63854836,  70.5253026 ,  12.84706892,\n",
       "        -2.01240403,  45.47591084, -27.76162059, -44.58994178,\n",
       "        37.58898795, -10.24792612,  18.64589969,  15.42961135,\n",
       "       -55.16825657,  66.89127471, -43.69969977,  15.48994309,\n",
       "        21.89479916, -13.2593811 ])"
      ]
     },
     "execution_count": 27,
     "metadata": {},
     "output_type": "execute_result"
    }
   ],
   "source": [
    "# Add the size parameter to generate an array of floating-point decimals\n",
    "np.random.uniform(-90.000, 90.000, size=50)\n"
   ]
  },
  {
   "cell_type": "code",
   "execution_count": 28,
   "id": "f5383861",
   "metadata": {},
   "outputs": [],
   "source": [
    "# Import the timeity module which tests how long it takes a piece of code to run\n",
    "import timeit"
   ]
  },
  {
   "cell_type": "code",
   "execution_count": 31,
   "id": "2daf67f8",
   "metadata": {},
   "outputs": [
    {
     "name": "stdout",
     "output_type": "stream",
     "text": [
      "12 µs ± 98.9 ns per loop (mean ± std. dev. of 7 runs, 100000 loops each)\n"
     ]
    }
   ],
   "source": [
    "# Add the timeit magic command %timeit to measure how long it takes this piece of code to run\n",
    "%timeit np.random.uniform(-90.000, 90.000, size=1500)"
   ]
  },
  {
   "cell_type": "code",
   "execution_count": 33,
   "id": "2b335b4e",
   "metadata": {},
   "outputs": [
    {
     "name": "stdout",
     "output_type": "stream",
     "text": [
      "1.41 ms ± 3.81 µs per loop (mean ± std. dev. of 7 runs, 1000 loops each)\n"
     ]
    }
   ],
   "source": [
    "# Time the previous algorithm\n",
    "def latitudes(size):\n",
    "    latitudes = []\n",
    "    x = 0\n",
    "    while x < (size):\n",
    "        random_lat = random.randint(-90, 90) + random.random()\n",
    "        latitudes.append(random_lat)\n",
    "        x += 1\n",
    "    return latitudes\n",
    "\n",
    "# Call the function to generate 1500 random numbers\n",
    "%timeit latitudes(1500)\n",
    "\n",
    "# Using the random.uniform function is 100 times faster than this algorithm (14.6 microseconds vs. 1.45 milliseconds)"
   ]
  },
  {
   "cell_type": "code",
   "execution_count": null,
   "id": "ee9b7e98",
   "metadata": {},
   "outputs": [],
   "source": [
    "# Skill Drill - refractor code in cell above to a for loop that will generate the 1500 latitudes\n"
   ]
  }
 ],
 "metadata": {
  "kernelspec": {
   "display_name": "PythonData",
   "language": "python",
   "name": "pythondata"
  },
  "language_info": {
   "codemirror_mode": {
    "name": "ipython",
    "version": 3
   },
   "file_extension": ".py",
   "mimetype": "text/x-python",
   "name": "python",
   "nbconvert_exporter": "python",
   "pygments_lexer": "ipython3",
   "version": "3.7.10"
  }
 },
 "nbformat": 4,
 "nbformat_minor": 5
}
